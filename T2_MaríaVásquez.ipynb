{
 "cells": [
  {
   "cell_type": "markdown",
   "metadata": {},
   "source": [
    "## Python\n",
    "\n",
    "Python es un lenguaje de programación creado alrededor de 1989 por el científico computacional *Guido van Rossum*. Este ha destacado principalmente por su facilidad, flexibilidad y versatilidad. Y debido a su conjunto de bibliotecas robustas que lo convierten en un lenguaje de programación tan dinámico y rápido\n",
    "\n",
    "Es tan conocido que según la revista \"The economist\":\n",
    "> A mediados de 2017, los americanos ya habían buscado Python en Google, más seguido que la reconocida estrella de reality shows Kim Kardashian\n",
    "\n",
    "lo que sugiere que ha superado a casi todos sus rivales y ha dejado la programación al alcance de las personas se sintieron perdidas en lenguajes desconocidos.\n",
    "\n",
    "Sin embargo, no llega a reemplazar a lenguajes como C y C++ debido a que estos brindan al usuario más control sobre lo que sucede en el procesador de una computadora.\n",
    "\n",
    "*¿Por qué elegir Python entonces?*\n",
    "1. Por su facilidad de aprendizaje dada su confiabilidad y simple sintaxis.\n",
    "2. Es usado para inteligencia artificial, machine learning y data science.\n",
    "3. Es confiable debido a que es usado en un gran número de aplicaciones, herramientas y compañías de gran importancia.\n",
    " \n",
    " \n",
    "***Bibliografía***\n",
    "* [Rayome (2018) Why Python is so popular with developers: 3 reasons the language has exploded](https://www.techrepublic.com/article/why-python-is-so-popular-with-developers-3-reasons-the-language-has-exploded/)\n",
    "* [The economist (2018) Python is becoming the world’s most popular coding language](https://www.economist.com/graphic-detail/2018/07/26/python-is-becoming-the-worlds-most-popular-coding-language)\n"
   ]
  },
  {
   "cell_type": "code",
   "execution_count": null,
   "metadata": {},
   "outputs": [],
   "source": []
  }
 ],
 "metadata": {
  "kernelspec": {
   "display_name": "Python 3",
   "language": "python",
   "name": "python3"
  },
  "language_info": {
   "codemirror_mode": {
    "name": "ipython",
    "version": 3
   },
   "file_extension": ".py",
   "mimetype": "text/x-python",
   "name": "python",
   "nbconvert_exporter": "python",
   "pygments_lexer": "ipython3",
   "version": "3.8.3"
  }
 },
 "nbformat": 4,
 "nbformat_minor": 4
}
